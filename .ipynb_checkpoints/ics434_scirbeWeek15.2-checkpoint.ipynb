{
 "cells": [
  {
   "cell_type": "markdown",
   "metadata": {},
   "source": [
    "### Team Members\n",
    "Leave Empty for Muzamil"
   ]
  },
  {
   "cell_type": "code",
   "execution_count": 1,
   "metadata": {},
   "outputs": [],
   "source": [
    "from IPython.display import Image\n",
    "import itertools \n",
    "import numpy as np\n",
    "import pandas as pd\n",
    "\n",
    "import matplotlib.pyplot as plt\n",
    "\n",
    "\n",
    "from scipy.spatial import distance\n",
    "\n",
    "%matplotlib inline\n",
    "import seaborn as sns"
   ]
  },
  {
   "cell_type": "markdown",
   "metadata": {},
   "source": [
    "## Introduction to Machine Learning"
   ]
  },
  {
   "cell_type": "markdown",
   "metadata": {},
   "source": [
    "*\" A computer is said to learn for an experience E with respect to some task T and some performance measure P, if its performance on T, as measured by P, improves with experience E. -- Tom Mitchell, 1997*\n",
    "\n",
    "*\"I have no idea what's happening because I never took my linear algebra class seriously.\" -- Anonymous Scribe, 2019*\n",
    "\n",
    "It was once tedious to fumble through large amounts of data to infer solutions to complex problems. Today, we have a plethora of advanced techniques to have computers derive solutions from certain types of problems without explicitly programming them to do so. This is the general idea behind machine learning, but for those who wish for a stricter definition, the Werriam-Webster dictionary defines **machine learning** as the following:\n",
    "\n",
    "*\"The capability of a machine to improve its own performance. It does so by using a statistical model to make decisions and incorporating the result of each new trial into that model. In essence, the machine is programmed to learn through trial and error.\"* [Source](https://www.merriam-webster.com/words-at-play/what-does-machine-learning-mean)\n",
    "\n",
    "If one has the availability of large and high-quality data, then certain problems can be solved in a variety of ways. The methods to do so depends on the type of data being acquired which will be discussed below. \n",
    "\n"
   ]
  },
  {
   "cell_type": "markdown",
   "metadata": {},
   "source": [
    "#### The SPAM Filter: Applications of Machine Learning\n",
    "\n",
    "Some of the first mainstream applications of machine learning date back to the early 1990s as spam filters for emails. This process was known as the \"SPAM or HAM\" algorithm. \"SPAM\" denotes spam emails, especially from supposed Nigerian princes asking for a few thousand dollars. \"HAM\" denotes emails that are legitimate, or not spam.\n",
    "\n",
    "Prior to machine learning, a programmer would manually write a lengthy list of more or less intuitive rules that search for given patterns in emails. This was a tedious experience.\n",
    "\n",
    "In comparision to hardcoding a filter, the Machine learning SPAM filter detects spam emails by taking note of unusually frequent patterns of words in spam compared to a ham email examples. The filter then determines spam compared to ham examples and use those distinguishments to detect SPAM or HAM. This  python progam was much shorter and easier to maintain code and most likely more accurate as its sample size grew.\n",
    "\n",
    "In our previous lectures, we had discussed logistic regression and determining the likelihood someone defaults on their credit card based on known data. Indeed, logistic regression would prove a suitable approach to solve the SPAM problem.\n",
    "\n",
    "We will now discuss several machine learning techniques."
   ]
  },
  {
   "cell_type": "markdown",
   "metadata": {},
   "source": [
    "## Supervised, Unsupervised and Reinforcement Machine Learning\n",
    "\n",
    "As mentioned above, different data can be used to solve different problems. There may be certain requirements to answer different questions.\n",
    "\n",
    "We will cover three Machine Learning techniques: **supervised**, **unsupervised**, and **reinforcment**.\n",
    "\n",
    "### 1.)  Supervised training\n",
    "\n",
    "Supervised Machine Learning uses a dataset that is used to build the model. This dataset is called the *training data* and includes the solutions or labels for each of the input data points. The training data gives you the mapping for a finite set of points and will help develop predictions. \n",
    "\n",
    "We want to generalize this mapping to population from which the training data originates and to derive the function that maps an input of the full set of data using only the training data. in other words, the training data set will be used to model predictions.\n",
    "\n",
    "There are two types of supervised learning we will be using: *regression* and *classification*.\n",
    "\n",
    "**i.)** **Regression** (ex.: the linear regression)\n",
    "\n",
    "Supervised learning can be used to predict a specific quantity. Some examples were mentioned in class:\n",
    "+ Predicting ABC store sales from weather, rooms sold in Waikiki, special events in Waikiki, etc.\n",
    "+ Predicting how much some is likely to donate to fundraising campaign\n",
    "\n",
    "**ii.)** **Classification** (ex.: logistic regression)\n",
    "\n",
    "This is used if the output is a class label and not a quantity, ex.\n",
    "\n",
    "+ Predicting HAM/SPAM emails from an input email text.\n",
    "+ Classification animal in an image (ex. cat, dog, horse, ...)\n"
   ]
  },
  {
   "cell_type": "markdown",
   "metadata": {},
   "source": [
    "### 2.) Unsupervised Learning\n",
    "\n",
    "In unsupervised training, data is unlabeled and the system tries to learn without supervision. This can result in a fuzzy objective of finding groups of samples that behave similarly. \n",
    "\n",
    "There are some issues with using unsupervised learning. The evaluation of unsupervised learning results is often qualitative and/or indirect and may be difficult to know how well you're are doing. After all, there is no \"training data\" to condition the learning process.\n",
    "\n",
    "#### Unsupervised Learning: common tasks\n",
    "\n",
    "Below is a few samples of unsupervised learning we covered in class.\n",
    "+ Identifying clusters of tweets that talk about similar things.\n",
    "+ Customer segmentation into: VALUE CONSCIOUS, LOYAL TO LOW COST, BRAND ADVOCATES\n",
    "+ Market Basked analysis (IE: how Safeway optimizes travel distance of customers by noting common pairs of purchases and distancing those items in hopes the extended walk encourages further purchases)\n"
   ]
  },
  {
   "cell_type": "markdown",
   "metadata": {},
   "source": [
    "### 3.) Reinforcement learning\n",
    "This class of learning encompasses the algorithms that learn via reinforcement by \"rewarding\" good outcomes and \"penalizing\" bad outcomes. \n",
    "\n",
    "Some examples that incorporate reinforcement learning:\n",
    "+ Self-driving cars that are capable of sensing their environment and moving without input from a human.\n",
    "+ Agents that can play video games\n",
    "+ Systems that can control traffic light based on input from cameras and sensors\n",
    "\n",
    "#### Reinforcement learning - Intuition\n",
    "\n",
    "For the autonomous car example, the model learns to associate images of road and data from sensors with possible speed and wheel displacement.\n",
    "\n",
    "Clearly, some examples that penalize bad outcomes and reward good outcomes can be the difference between life and death if we are discussing self-driving cars. We can hope this class of learning would use simulations or reside in a controlled setting if the penalties are particularly nasty.\n",
    "\n",
    "Applications of reinforcment learning will then be something akin to the following:\n",
    "\n",
    "+ Crashing penalizes by providing low or negative points and getting to the right destination rewards high points. The model learns the types of situations that can lead to a crash and learns to avoid them.\n",
    "+ Robots that autonomously explore seafloor. You would hope that expensive machine makes it back intact. You would hope it knows where it has been and where to go to maximize the information collected, while staying safe (returning to base, not going where it cannot come back, etc.)"
   ]
  },
  {
   "cell_type": "markdown",
   "metadata": {},
   "source": [
    "## Section Encryption"
   ]
  },
  {
   "cell_type": "markdown",
   "metadata": {},
   "source": [
    "## Section Scikit-Learn"
   ]
  },
  {
   "cell_type": "markdown",
   "metadata": {},
   "source": [
    "## Section Scikit-Learn with Supervised Learning"
   ]
  },
  {
   "cell_type": "code",
   "execution_count": 11,
   "metadata": {},
   "outputs": [
    {
     "ename": "ModuleNotFoundError",
     "evalue": "No module named 'Image'",
     "output_type": "error",
     "traceback": [
      "\u001b[1;31m---------------------------------------------------------------------------\u001b[0m",
      "\u001b[1;31mModuleNotFoundError\u001b[0m                       Traceback (most recent call last)",
      "\u001b[1;32m<ipython-input-11-8c40c13134ef>\u001b[0m in \u001b[0;36m<module>\u001b[1;34m\u001b[0m\n\u001b[1;32m----> 1\u001b[1;33m \u001b[1;32mimport\u001b[0m \u001b[0mImage\u001b[0m\u001b[1;33m\u001b[0m\u001b[1;33m\u001b[0m\u001b[0m\n\u001b[0m\u001b[0;32m      2\u001b[0m \u001b[1;33m\u001b[0m\u001b[0m\n\u001b[0;32m      3\u001b[0m \u001b[0mimage\u001b[0m \u001b[1;33m=\u001b[0m \u001b[0mImage\u001b[0m\u001b[1;33m.\u001b[0m\u001b[0mopen\u001b[0m\u001b[1;33m(\u001b[0m\u001b[1;34m'hauntings.gif'\u001b[0m\u001b[1;33m)\u001b[0m\u001b[1;33m\u001b[0m\u001b[1;33m\u001b[0m\u001b[0m\n\u001b[0;32m      4\u001b[0m \u001b[0mimage\u001b[0m\u001b[1;33m.\u001b[0m\u001b[0mshow\u001b[0m\u001b[1;33m(\u001b[0m\u001b[1;33m)\u001b[0m\u001b[1;33m\u001b[0m\u001b[1;33m\u001b[0m\u001b[0m\n",
      "\u001b[1;31mModuleNotFoundError\u001b[0m: No module named 'Image'"
     ]
    }
   ],
   "source": [
    "import Image\n",
    "\n",
    "image = Image.open('hauntings.gif')\n",
    "image.show()"
   ]
  },
  {
   "cell_type": "code",
   "execution_count": 29,
   "metadata": {},
   "outputs": [
    {
     "data": {
      "image/png": "[encoded data removed]",
      "text/plain": [
       "<Figure size 432x288 with 1 Axes>"
      ]
     },
     "metadata": {},
     "output_type": "display_data"
    }
   ],
   "source": [
    "import matplotlib.pyplot as plt\n",
    "import matplotlib.image as mpimg\n",
    "img=mpimg.imread('images/egg-insta.jpg')\n",
    "imgplot = plt.imshow(img)\n",
    "cur_axes = plt.gca()\n",
    "cur_axes.axes.get_xaxis().set_ticks([])\n",
    "cur_axes.axes.get_yaxis().set_ticks([])\n",
    "plt.show()"
   ]
  },
  {
   "cell_type": "code",
   "execution_count": null,
   "metadata": {},
   "outputs": [],
   "source": []
  }
 ],
 "metadata": {
  "kernelspec": {
   "display_name": "Python 3",
   "language": "python",
   "name": "python3"
  },
  "language_info": {
   "codemirror_mode": {
    "name": "ipython",
    "version": 3
   },
   "file_extension": ".py",
   "mimetype": "text/x-python",
   "name": "python",
   "nbconvert_exporter": "python",
   "pygments_lexer": "ipython3",
   "version": "3.6.5"
  }
 },
 "nbformat": 4,
 "nbformat_minor": 2
}
