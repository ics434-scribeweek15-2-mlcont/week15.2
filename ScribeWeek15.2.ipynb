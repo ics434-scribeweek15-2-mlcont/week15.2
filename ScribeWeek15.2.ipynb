{
 "cells": [
  {
   "cell_type": "code",
   "execution_count": null,
   "metadata": {},
   "outputs": [],
   "source": []
  },
  {
   "cell_type": "code",
   "execution_count": null,
   "metadata": {},
   "outputs": [],
   "source": [
    "# imports"
   ]
  },
  {
   "cell_type": "markdown",
   "metadata": {},
   "source": [
    "# Week 15.2"
   ]
  },
  {
   "cell_type": "markdown",
   "metadata": {},
   "source": [
    "## Introduction to Machine Learning\n",
    "\n",
    "*\" A computer is said to learn for an experience E with respect to some task T and some performance measure P, if its performance on T, as measured by P, improves with experience E. -- Tom Mitchell, 1997*\n",
    "\n",
    "*\"I have no idea what's happening because I never took my linear algebra class seriously.\" -- Anonymous Scribe, 2019*\n",
    "\n",
    "It was once tedious to fumble through large amounts of data to infer solutions to complex problems. Today, we have a plethora of advanced techniques to have computers derive solutions from certain types of problems without explicitly programming them to do so. This is the general idea behind machine learning, but for those who wish for a stricter definition, the Werriam-Webster dictionary defines **machine learning** as the following:\n",
    "\n",
    "*\"The capability of a machine to improve its own performance. It does so by using a statistical model to make decisions and incorporating the result of each new trial into that model. In essence, the machine is programmed to learn through trial and error.\"* [Source](https://www.merriam-webster.com/words-at-play/what-does-machine-learning-mean)\n",
    "\n",
    "If one has the availability of large and high-quality data, then certain problems can be solved in a variety of ways. The methods to do so depends on the type of data being acquired which will be discussed below."
   ]
  },
  {
   "cell_type": "markdown",
   "metadata": {},
   "source": [
    "## Encoding with Machine Learing"
   ]
  },
  {
   "cell_type": "markdown",
   "metadata": {},
   "source": [
    "#### The groundwork for Encryption with Machine Learning\n",
    "   \n",
    "After determining wich *class problem* you are working with (supervised, unsupervised, or reinforcement learning), you need to *structure the input(s) and output(s)* into a compatible format with the type of machine learning you are working with. (This may involve adding new input features.) To do this you need to take into consideration the type of algorithm you will be using to solve the problem. \n",
    "\n",
    "- Hint: When deciding on an algorithm that will fit the problem, take into consideration the desired output(s) of the problem. Can any of them be used to train your model(s)?\n",
    "\n",
    "\n",
    "The the need or process of, input(s) that need to be transformed to work with ML algorithms is called feature engineering or data encoding. *A good encoding is one which preserves contextual similarity between data points.* However, this can be challenging. Examples of data that would need to be transformed into a workable input are; sound, DNA sequences, images, etc. \n",
    "\n",
    "#### Examples\n",
    "You could encode a song as a vector( instead of a single numerical value), Encoding Images of Digits To encoded image, representing single digits, we can digitize a bounded box centered around the digit\n",
    "\n",
    "You could encode emails and text to filter out spam from ham. Your input or set of features will be all the set of possible words to indicate a spam email. Those features will include but are not limited to a subset of commonly occurring words, or the presence/absence and frequency of each word. Typically this feature of subset can be hundreds or thousands of words. \n",
    "\n",
    "We could encode the image of a number, by converting it into a matrix where each pixel is stored as a real number representing the grayscale pixel. As seen below.The matrix, the right image, can be unrolled and represented as a vector of [nm, 1], which would look something like; [0, 0, 0, 0, 0, 0, 0, 0, 0, 0, ..., 0.6, 0.8, 0, 0, 0, 0.7, 1, ...]. Using *Euclidean Distance* (\"ordinary\" straight-line distance between two points in Euclidean space(2D or 3D)) you can find the distance between vectors. This is useful for ML to recognize other number 1s, since number ones are all fairly similar even across handwriting and fonts. \n",
    "![](images/coral.png)\n",
    "\n",
    "The above example of encoding a number onto a grid based on the grayscale is useful for ML, when dealing with visually similar images. However, it does not work week for things that have more variables to them. For example, brain coral can vary in color and texture. In Order to encode them and have a program recognize a picture of brain coral, other features such as shape and pattern need to be taken into account. \n",
    "![](images/image.png)"
   ]
  },
  {
   "cell_type": "markdown",
   "metadata": {},
   "source": [
    "## Scikit-Learn and Scikit-Learn with Supervised Learning"
   ]
  },
  {
   "cell_type": "markdown",
   "metadata": {},
   "source": []
  }
 ],
 "metadata": {
  "kernelspec": {
   "display_name": "Python 3",
   "language": "python",
   "name": "python3"
  },
  "language_info": {
   "codemirror_mode": {
    "name": "ipython",
    "version": 3
   },
   "file_extension": ".py",
   "mimetype": "text/x-python",
   "name": "python",
   "nbconvert_exporter": "python",
   "pygments_lexer": "ipython3",
   "version": "3.7.1"
  }
 },
 "nbformat": 4,
 "nbformat_minor": 2
}
